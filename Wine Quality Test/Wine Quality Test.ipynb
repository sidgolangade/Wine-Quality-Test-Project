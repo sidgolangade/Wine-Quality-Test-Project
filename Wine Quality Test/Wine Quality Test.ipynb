{
 "cells": [
  {
   "cell_type": "markdown",
   "metadata": {},
   "source": [
    "### Importing the Libraries"
   ]
  },
  {
   "cell_type": "code",
   "execution_count": 1,
   "metadata": {},
   "outputs": [],
   "source": [
    "import numpy as np\n",
    "import pandas as pd\n",
    "import matplotlib.pyplot as plt\n",
    "import seaborn as sns\n",
    "%matplotlib inline"
   ]
  },
  {
   "cell_type": "markdown",
   "metadata": {},
   "source": [
    "### Importing the dataset"
   ]
  },
  {
   "cell_type": "code",
   "execution_count": 2,
   "metadata": {},
   "outputs": [],
   "source": [
    "labels = ('fixed_acidity','volatile_acidity','citric_acid','residual_sugar','chlorides','free_sulfur_dioxide','total_sulfur_dioxide','density','pH','sulphates','alcohol','quality')\n",
    "df_red = pd.read_csv('winequality-red.csv', header = 0, names = labels,sep = ';')\n",
    "df_white = pd.read_csv('winequality-white.csv', header = 0, names = labels,sep = ';')"
   ]
  },
  {
   "cell_type": "markdown",
   "metadata": {},
   "source": [
    "### Display the dataset"
   ]
  },
  {
   "cell_type": "code",
   "execution_count": 3,
   "metadata": {},
   "outputs": [
    {
     "data": {
      "text/html": [
       "<div>\n",
       "<style scoped>\n",
       "    .dataframe tbody tr th:only-of-type {\n",
       "        vertical-align: middle;\n",
       "    }\n",
       "\n",
       "    .dataframe tbody tr th {\n",
       "        vertical-align: top;\n",
       "    }\n",
       "\n",
       "    .dataframe thead th {\n",
       "        text-align: right;\n",
       "    }\n",
       "</style>\n",
       "<table border=\"1\" class=\"dataframe\">\n",
       "  <thead>\n",
       "    <tr style=\"text-align: right;\">\n",
       "      <th></th>\n",
       "      <th>fixed_acidity</th>\n",
       "      <th>volatile_acidity</th>\n",
       "      <th>citric_acid</th>\n",
       "      <th>residual_sugar</th>\n",
       "      <th>chlorides</th>\n",
       "      <th>free_sulfur_dioxide</th>\n",
       "      <th>total_sulfur_dioxide</th>\n",
       "      <th>density</th>\n",
       "      <th>pH</th>\n",
       "      <th>sulphates</th>\n",
       "      <th>alcohol</th>\n",
       "      <th>quality</th>\n",
       "    </tr>\n",
       "  </thead>\n",
       "  <tbody>\n",
       "    <tr>\n",
       "      <th>0</th>\n",
       "      <td>7.4</td>\n",
       "      <td>0.70</td>\n",
       "      <td>0.00</td>\n",
       "      <td>1.9</td>\n",
       "      <td>0.076</td>\n",
       "      <td>11.0</td>\n",
       "      <td>34.0</td>\n",
       "      <td>0.9978</td>\n",
       "      <td>3.51</td>\n",
       "      <td>0.56</td>\n",
       "      <td>9.4</td>\n",
       "      <td>5</td>\n",
       "    </tr>\n",
       "    <tr>\n",
       "      <th>1</th>\n",
       "      <td>7.8</td>\n",
       "      <td>0.88</td>\n",
       "      <td>0.00</td>\n",
       "      <td>2.6</td>\n",
       "      <td>0.098</td>\n",
       "      <td>25.0</td>\n",
       "      <td>67.0</td>\n",
       "      <td>0.9968</td>\n",
       "      <td>3.20</td>\n",
       "      <td>0.68</td>\n",
       "      <td>9.8</td>\n",
       "      <td>5</td>\n",
       "    </tr>\n",
       "    <tr>\n",
       "      <th>2</th>\n",
       "      <td>7.8</td>\n",
       "      <td>0.76</td>\n",
       "      <td>0.04</td>\n",
       "      <td>2.3</td>\n",
       "      <td>0.092</td>\n",
       "      <td>15.0</td>\n",
       "      <td>54.0</td>\n",
       "      <td>0.9970</td>\n",
       "      <td>3.26</td>\n",
       "      <td>0.65</td>\n",
       "      <td>9.8</td>\n",
       "      <td>5</td>\n",
       "    </tr>\n",
       "    <tr>\n",
       "      <th>3</th>\n",
       "      <td>11.2</td>\n",
       "      <td>0.28</td>\n",
       "      <td>0.56</td>\n",
       "      <td>1.9</td>\n",
       "      <td>0.075</td>\n",
       "      <td>17.0</td>\n",
       "      <td>60.0</td>\n",
       "      <td>0.9980</td>\n",
       "      <td>3.16</td>\n",
       "      <td>0.58</td>\n",
       "      <td>9.8</td>\n",
       "      <td>6</td>\n",
       "    </tr>\n",
       "    <tr>\n",
       "      <th>4</th>\n",
       "      <td>7.4</td>\n",
       "      <td>0.70</td>\n",
       "      <td>0.00</td>\n",
       "      <td>1.9</td>\n",
       "      <td>0.076</td>\n",
       "      <td>11.0</td>\n",
       "      <td>34.0</td>\n",
       "      <td>0.9978</td>\n",
       "      <td>3.51</td>\n",
       "      <td>0.56</td>\n",
       "      <td>9.4</td>\n",
       "      <td>5</td>\n",
       "    </tr>\n",
       "  </tbody>\n",
       "</table>\n",
       "</div>"
      ],
      "text/plain": [
       "   fixed_acidity  volatile_acidity  citric_acid  residual_sugar  chlorides  \\\n",
       "0            7.4              0.70         0.00             1.9      0.076   \n",
       "1            7.8              0.88         0.00             2.6      0.098   \n",
       "2            7.8              0.76         0.04             2.3      0.092   \n",
       "3           11.2              0.28         0.56             1.9      0.075   \n",
       "4            7.4              0.70         0.00             1.9      0.076   \n",
       "\n",
       "   free_sulfur_dioxide  total_sulfur_dioxide  density    pH  sulphates  \\\n",
       "0                 11.0                  34.0   0.9978  3.51       0.56   \n",
       "1                 25.0                  67.0   0.9968  3.20       0.68   \n",
       "2                 15.0                  54.0   0.9970  3.26       0.65   \n",
       "3                 17.0                  60.0   0.9980  3.16       0.58   \n",
       "4                 11.0                  34.0   0.9978  3.51       0.56   \n",
       "\n",
       "   alcohol  quality  \n",
       "0      9.4        5  \n",
       "1      9.8        5  \n",
       "2      9.8        5  \n",
       "3      9.8        6  \n",
       "4      9.4        5  "
      ]
     },
     "execution_count": 3,
     "metadata": {},
     "output_type": "execute_result"
    }
   ],
   "source": [
    "df_red.head()"
   ]
  },
  {
   "cell_type": "code",
   "execution_count": 4,
   "metadata": {},
   "outputs": [
    {
     "data": {
      "text/html": [
       "<div>\n",
       "<style scoped>\n",
       "    .dataframe tbody tr th:only-of-type {\n",
       "        vertical-align: middle;\n",
       "    }\n",
       "\n",
       "    .dataframe tbody tr th {\n",
       "        vertical-align: top;\n",
       "    }\n",
       "\n",
       "    .dataframe thead th {\n",
       "        text-align: right;\n",
       "    }\n",
       "</style>\n",
       "<table border=\"1\" class=\"dataframe\">\n",
       "  <thead>\n",
       "    <tr style=\"text-align: right;\">\n",
       "      <th></th>\n",
       "      <th>fixed_acidity</th>\n",
       "      <th>volatile_acidity</th>\n",
       "      <th>citric_acid</th>\n",
       "      <th>residual_sugar</th>\n",
       "      <th>chlorides</th>\n",
       "      <th>free_sulfur_dioxide</th>\n",
       "      <th>total_sulfur_dioxide</th>\n",
       "      <th>density</th>\n",
       "      <th>pH</th>\n",
       "      <th>sulphates</th>\n",
       "      <th>alcohol</th>\n",
       "      <th>quality</th>\n",
       "    </tr>\n",
       "  </thead>\n",
       "  <tbody>\n",
       "    <tr>\n",
       "      <th>0</th>\n",
       "      <td>7.0</td>\n",
       "      <td>0.27</td>\n",
       "      <td>0.36</td>\n",
       "      <td>20.7</td>\n",
       "      <td>0.045</td>\n",
       "      <td>45.0</td>\n",
       "      <td>170.0</td>\n",
       "      <td>1.0010</td>\n",
       "      <td>3.00</td>\n",
       "      <td>0.45</td>\n",
       "      <td>8.8</td>\n",
       "      <td>6</td>\n",
       "    </tr>\n",
       "    <tr>\n",
       "      <th>1</th>\n",
       "      <td>6.3</td>\n",
       "      <td>0.30</td>\n",
       "      <td>0.34</td>\n",
       "      <td>1.6</td>\n",
       "      <td>0.049</td>\n",
       "      <td>14.0</td>\n",
       "      <td>132.0</td>\n",
       "      <td>0.9940</td>\n",
       "      <td>3.30</td>\n",
       "      <td>0.49</td>\n",
       "      <td>9.5</td>\n",
       "      <td>6</td>\n",
       "    </tr>\n",
       "    <tr>\n",
       "      <th>2</th>\n",
       "      <td>8.1</td>\n",
       "      <td>0.28</td>\n",
       "      <td>0.40</td>\n",
       "      <td>6.9</td>\n",
       "      <td>0.050</td>\n",
       "      <td>30.0</td>\n",
       "      <td>97.0</td>\n",
       "      <td>0.9951</td>\n",
       "      <td>3.26</td>\n",
       "      <td>0.44</td>\n",
       "      <td>10.1</td>\n",
       "      <td>6</td>\n",
       "    </tr>\n",
       "    <tr>\n",
       "      <th>3</th>\n",
       "      <td>7.2</td>\n",
       "      <td>0.23</td>\n",
       "      <td>0.32</td>\n",
       "      <td>8.5</td>\n",
       "      <td>0.058</td>\n",
       "      <td>47.0</td>\n",
       "      <td>186.0</td>\n",
       "      <td>0.9956</td>\n",
       "      <td>3.19</td>\n",
       "      <td>0.40</td>\n",
       "      <td>9.9</td>\n",
       "      <td>6</td>\n",
       "    </tr>\n",
       "    <tr>\n",
       "      <th>4</th>\n",
       "      <td>7.2</td>\n",
       "      <td>0.23</td>\n",
       "      <td>0.32</td>\n",
       "      <td>8.5</td>\n",
       "      <td>0.058</td>\n",
       "      <td>47.0</td>\n",
       "      <td>186.0</td>\n",
       "      <td>0.9956</td>\n",
       "      <td>3.19</td>\n",
       "      <td>0.40</td>\n",
       "      <td>9.9</td>\n",
       "      <td>6</td>\n",
       "    </tr>\n",
       "  </tbody>\n",
       "</table>\n",
       "</div>"
      ],
      "text/plain": [
       "   fixed_acidity  volatile_acidity  citric_acid  residual_sugar  chlorides  \\\n",
       "0            7.0              0.27         0.36            20.7      0.045   \n",
       "1            6.3              0.30         0.34             1.6      0.049   \n",
       "2            8.1              0.28         0.40             6.9      0.050   \n",
       "3            7.2              0.23         0.32             8.5      0.058   \n",
       "4            7.2              0.23         0.32             8.5      0.058   \n",
       "\n",
       "   free_sulfur_dioxide  total_sulfur_dioxide  density    pH  sulphates  \\\n",
       "0                 45.0                 170.0   1.0010  3.00       0.45   \n",
       "1                 14.0                 132.0   0.9940  3.30       0.49   \n",
       "2                 30.0                  97.0   0.9951  3.26       0.44   \n",
       "3                 47.0                 186.0   0.9956  3.19       0.40   \n",
       "4                 47.0                 186.0   0.9956  3.19       0.40   \n",
       "\n",
       "   alcohol  quality  \n",
       "0      8.8        6  \n",
       "1      9.5        6  \n",
       "2     10.1        6  \n",
       "3      9.9        6  \n",
       "4      9.9        6  "
      ]
     },
     "execution_count": 4,
     "metadata": {},
     "output_type": "execute_result"
    }
   ],
   "source": [
    "df_white.head()"
   ]
  },
  {
   "cell_type": "markdown",
   "metadata": {},
   "source": [
    "### Dataset Info"
   ]
  },
  {
   "cell_type": "code",
   "execution_count": 5,
   "metadata": {},
   "outputs": [
    {
     "name": "stdout",
     "output_type": "stream",
     "text": [
      "<class 'pandas.core.frame.DataFrame'>\n",
      "RangeIndex: 1599 entries, 0 to 1598\n",
      "Data columns (total 12 columns):\n",
      " #   Column                Non-Null Count  Dtype  \n",
      "---  ------                --------------  -----  \n",
      " 0   fixed_acidity         1599 non-null   float64\n",
      " 1   volatile_acidity      1599 non-null   float64\n",
      " 2   citric_acid           1599 non-null   float64\n",
      " 3   residual_sugar        1599 non-null   float64\n",
      " 4   chlorides             1599 non-null   float64\n",
      " 5   free_sulfur_dioxide   1599 non-null   float64\n",
      " 6   total_sulfur_dioxide  1599 non-null   float64\n",
      " 7   density               1599 non-null   float64\n",
      " 8   pH                    1599 non-null   float64\n",
      " 9   sulphates             1599 non-null   float64\n",
      " 10  alcohol               1599 non-null   float64\n",
      " 11  quality               1599 non-null   int64  \n",
      "dtypes: float64(11), int64(1)\n",
      "memory usage: 150.0 KB\n"
     ]
    }
   ],
   "source": [
    "df_red.info()"
   ]
  },
  {
   "cell_type": "code",
   "execution_count": 6,
   "metadata": {},
   "outputs": [
    {
     "name": "stdout",
     "output_type": "stream",
     "text": [
      "<class 'pandas.core.frame.DataFrame'>\n",
      "RangeIndex: 4898 entries, 0 to 4897\n",
      "Data columns (total 12 columns):\n",
      " #   Column                Non-Null Count  Dtype  \n",
      "---  ------                --------------  -----  \n",
      " 0   fixed_acidity         4898 non-null   float64\n",
      " 1   volatile_acidity      4898 non-null   float64\n",
      " 2   citric_acid           4898 non-null   float64\n",
      " 3   residual_sugar        4898 non-null   float64\n",
      " 4   chlorides             4898 non-null   float64\n",
      " 5   free_sulfur_dioxide   4898 non-null   float64\n",
      " 6   total_sulfur_dioxide  4898 non-null   float64\n",
      " 7   density               4898 non-null   float64\n",
      " 8   pH                    4898 non-null   float64\n",
      " 9   sulphates             4898 non-null   float64\n",
      " 10  alcohol               4898 non-null   float64\n",
      " 11  quality               4898 non-null   int64  \n",
      "dtypes: float64(11), int64(1)\n",
      "memory usage: 459.3 KB\n"
     ]
    }
   ],
   "source": [
    "df_white.info()"
   ]
  },
  {
   "cell_type": "markdown",
   "metadata": {},
   "source": [
    "#### Original Shape"
   ]
  },
  {
   "cell_type": "code",
   "execution_count": 7,
   "metadata": {},
   "outputs": [
    {
     "data": {
      "text/plain": [
       "(1599, 12)"
      ]
     },
     "execution_count": 7,
     "metadata": {},
     "output_type": "execute_result"
    }
   ],
   "source": [
    "df_red.shape"
   ]
  },
  {
   "cell_type": "code",
   "execution_count": 8,
   "metadata": {},
   "outputs": [
    {
     "data": {
      "text/plain": [
       "(4898, 12)"
      ]
     },
     "execution_count": 8,
     "metadata": {},
     "output_type": "execute_result"
    }
   ],
   "source": [
    "df_white.shape"
   ]
  },
  {
   "cell_type": "markdown",
   "metadata": {},
   "source": [
    "#### Dropping the Duplicate Values"
   ]
  },
  {
   "cell_type": "code",
   "execution_count": 9,
   "metadata": {},
   "outputs": [
    {
     "name": "stdout",
     "output_type": "stream",
     "text": [
      "Red Wine:-\n",
      "Total Duplicate Values (Before Drop): 240\n",
      "Total Duplicate Values (After Drop): 0\n"
     ]
    }
   ],
   "source": [
    "print('Red Wine:-')\n",
    "print('Total Duplicate Values (Before Drop):',sum(df_red.duplicated()))\n",
    "\n",
    "df_red.drop_duplicates(inplace = True)\n",
    "print('Total Duplicate Values (After Drop):',sum(df_red.duplicated()))"
   ]
  },
  {
   "cell_type": "code",
   "execution_count": 10,
   "metadata": {},
   "outputs": [
    {
     "name": "stdout",
     "output_type": "stream",
     "text": [
      "White Wine:-\n",
      "Total Duplicate Values (Before Drop): 937\n",
      "Total Duplicate Values (After Drop): 0\n"
     ]
    }
   ],
   "source": [
    "print('White Wine:-')\n",
    "print('Total Duplicate Values (Before Drop):',sum(df_white.duplicated()))\n",
    "\n",
    "df_white.drop_duplicates(inplace = True)\n",
    "print('Total Duplicate Values (After Drop):',sum(df_white.duplicated()))"
   ]
  },
  {
   "cell_type": "markdown",
   "metadata": {},
   "source": [
    "#### New Shape (After Drop)"
   ]
  },
  {
   "cell_type": "code",
   "execution_count": 11,
   "metadata": {},
   "outputs": [
    {
     "data": {
      "text/plain": [
       "(1359, 12)"
      ]
     },
     "execution_count": 11,
     "metadata": {},
     "output_type": "execute_result"
    }
   ],
   "source": [
    "df_red.shape"
   ]
  },
  {
   "cell_type": "code",
   "execution_count": 12,
   "metadata": {},
   "outputs": [
    {
     "data": {
      "text/plain": [
       "(3961, 12)"
      ]
     },
     "execution_count": 12,
     "metadata": {},
     "output_type": "execute_result"
    }
   ],
   "source": [
    "df_white.shape"
   ]
  },
  {
   "cell_type": "markdown",
   "metadata": {},
   "source": [
    "### Let's check the Unique values"
   ]
  },
  {
   "cell_type": "code",
   "execution_count": 13,
   "metadata": {},
   "outputs": [
    {
     "data": {
      "text/plain": [
       "fixed_acidity            96\n",
       "volatile_acidity        143\n",
       "citric_acid              80\n",
       "residual_sugar           91\n",
       "chlorides               153\n",
       "free_sulfur_dioxide      60\n",
       "total_sulfur_dioxide    144\n",
       "density                 436\n",
       "pH                       89\n",
       "sulphates                96\n",
       "alcohol                  65\n",
       "quality                   6\n",
       "dtype: int64"
      ]
     },
     "execution_count": 13,
     "metadata": {},
     "output_type": "execute_result"
    }
   ],
   "source": [
    "df_red.nunique()"
   ]
  },
  {
   "cell_type": "code",
   "execution_count": 14,
   "metadata": {},
   "outputs": [
    {
     "data": {
      "text/plain": [
       "fixed_acidity            68\n",
       "volatile_acidity        125\n",
       "citric_acid              87\n",
       "residual_sugar          310\n",
       "chlorides               160\n",
       "free_sulfur_dioxide     132\n",
       "total_sulfur_dioxide    251\n",
       "density                 890\n",
       "pH                      103\n",
       "sulphates                79\n",
       "alcohol                 103\n",
       "quality                   7\n",
       "dtype: int64"
      ]
     },
     "execution_count": 14,
     "metadata": {},
     "output_type": "execute_result"
    }
   ],
   "source": [
    "df_white.nunique()"
   ]
  },
  {
   "cell_type": "markdown",
   "metadata": {},
   "source": [
    "### Dataset Description"
   ]
  },
  {
   "cell_type": "code",
   "execution_count": 15,
   "metadata": {},
   "outputs": [
    {
     "data": {
      "text/html": [
       "<div>\n",
       "<style scoped>\n",
       "    .dataframe tbody tr th:only-of-type {\n",
       "        vertical-align: middle;\n",
       "    }\n",
       "\n",
       "    .dataframe tbody tr th {\n",
       "        vertical-align: top;\n",
       "    }\n",
       "\n",
       "    .dataframe thead th {\n",
       "        text-align: right;\n",
       "    }\n",
       "</style>\n",
       "<table border=\"1\" class=\"dataframe\">\n",
       "  <thead>\n",
       "    <tr style=\"text-align: right;\">\n",
       "      <th></th>\n",
       "      <th>fixed_acidity</th>\n",
       "      <th>volatile_acidity</th>\n",
       "      <th>citric_acid</th>\n",
       "      <th>residual_sugar</th>\n",
       "      <th>chlorides</th>\n",
       "      <th>free_sulfur_dioxide</th>\n",
       "      <th>total_sulfur_dioxide</th>\n",
       "      <th>density</th>\n",
       "      <th>pH</th>\n",
       "      <th>sulphates</th>\n",
       "      <th>alcohol</th>\n",
       "      <th>quality</th>\n",
       "    </tr>\n",
       "  </thead>\n",
       "  <tbody>\n",
       "    <tr>\n",
       "      <th>count</th>\n",
       "      <td>1359.000000</td>\n",
       "      <td>1359.000000</td>\n",
       "      <td>1359.000000</td>\n",
       "      <td>1359.000000</td>\n",
       "      <td>1359.000000</td>\n",
       "      <td>1359.000000</td>\n",
       "      <td>1359.000000</td>\n",
       "      <td>1359.000000</td>\n",
       "      <td>1359.000000</td>\n",
       "      <td>1359.000000</td>\n",
       "      <td>1359.000000</td>\n",
       "      <td>1359.000000</td>\n",
       "    </tr>\n",
       "    <tr>\n",
       "      <th>mean</th>\n",
       "      <td>8.310596</td>\n",
       "      <td>0.529478</td>\n",
       "      <td>0.272333</td>\n",
       "      <td>2.523400</td>\n",
       "      <td>0.088124</td>\n",
       "      <td>15.893304</td>\n",
       "      <td>46.825975</td>\n",
       "      <td>0.996709</td>\n",
       "      <td>3.309787</td>\n",
       "      <td>0.658705</td>\n",
       "      <td>10.432315</td>\n",
       "      <td>5.623252</td>\n",
       "    </tr>\n",
       "    <tr>\n",
       "      <th>std</th>\n",
       "      <td>1.736990</td>\n",
       "      <td>0.183031</td>\n",
       "      <td>0.195537</td>\n",
       "      <td>1.352314</td>\n",
       "      <td>0.049377</td>\n",
       "      <td>10.447270</td>\n",
       "      <td>33.408946</td>\n",
       "      <td>0.001869</td>\n",
       "      <td>0.155036</td>\n",
       "      <td>0.170667</td>\n",
       "      <td>1.082065</td>\n",
       "      <td>0.823578</td>\n",
       "    </tr>\n",
       "    <tr>\n",
       "      <th>min</th>\n",
       "      <td>4.600000</td>\n",
       "      <td>0.120000</td>\n",
       "      <td>0.000000</td>\n",
       "      <td>0.900000</td>\n",
       "      <td>0.012000</td>\n",
       "      <td>1.000000</td>\n",
       "      <td>6.000000</td>\n",
       "      <td>0.990070</td>\n",
       "      <td>2.740000</td>\n",
       "      <td>0.330000</td>\n",
       "      <td>8.400000</td>\n",
       "      <td>3.000000</td>\n",
       "    </tr>\n",
       "    <tr>\n",
       "      <th>25%</th>\n",
       "      <td>7.100000</td>\n",
       "      <td>0.390000</td>\n",
       "      <td>0.090000</td>\n",
       "      <td>1.900000</td>\n",
       "      <td>0.070000</td>\n",
       "      <td>7.000000</td>\n",
       "      <td>22.000000</td>\n",
       "      <td>0.995600</td>\n",
       "      <td>3.210000</td>\n",
       "      <td>0.550000</td>\n",
       "      <td>9.500000</td>\n",
       "      <td>5.000000</td>\n",
       "    </tr>\n",
       "    <tr>\n",
       "      <th>50%</th>\n",
       "      <td>7.900000</td>\n",
       "      <td>0.520000</td>\n",
       "      <td>0.260000</td>\n",
       "      <td>2.200000</td>\n",
       "      <td>0.079000</td>\n",
       "      <td>14.000000</td>\n",
       "      <td>38.000000</td>\n",
       "      <td>0.996700</td>\n",
       "      <td>3.310000</td>\n",
       "      <td>0.620000</td>\n",
       "      <td>10.200000</td>\n",
       "      <td>6.000000</td>\n",
       "    </tr>\n",
       "    <tr>\n",
       "      <th>75%</th>\n",
       "      <td>9.200000</td>\n",
       "      <td>0.640000</td>\n",
       "      <td>0.430000</td>\n",
       "      <td>2.600000</td>\n",
       "      <td>0.091000</td>\n",
       "      <td>21.000000</td>\n",
       "      <td>63.000000</td>\n",
       "      <td>0.997820</td>\n",
       "      <td>3.400000</td>\n",
       "      <td>0.730000</td>\n",
       "      <td>11.100000</td>\n",
       "      <td>6.000000</td>\n",
       "    </tr>\n",
       "    <tr>\n",
       "      <th>max</th>\n",
       "      <td>15.900000</td>\n",
       "      <td>1.580000</td>\n",
       "      <td>1.000000</td>\n",
       "      <td>15.500000</td>\n",
       "      <td>0.611000</td>\n",
       "      <td>72.000000</td>\n",
       "      <td>289.000000</td>\n",
       "      <td>1.003690</td>\n",
       "      <td>4.010000</td>\n",
       "      <td>2.000000</td>\n",
       "      <td>14.900000</td>\n",
       "      <td>8.000000</td>\n",
       "    </tr>\n",
       "  </tbody>\n",
       "</table>\n",
       "</div>"
      ],
      "text/plain": [
       "       fixed_acidity  volatile_acidity  citric_acid  residual_sugar  \\\n",
       "count    1359.000000       1359.000000  1359.000000     1359.000000   \n",
       "mean        8.310596          0.529478     0.272333        2.523400   \n",
       "std         1.736990          0.183031     0.195537        1.352314   \n",
       "min         4.600000          0.120000     0.000000        0.900000   \n",
       "25%         7.100000          0.390000     0.090000        1.900000   \n",
       "50%         7.900000          0.520000     0.260000        2.200000   \n",
       "75%         9.200000          0.640000     0.430000        2.600000   \n",
       "max        15.900000          1.580000     1.000000       15.500000   \n",
       "\n",
       "         chlorides  free_sulfur_dioxide  total_sulfur_dioxide      density  \\\n",
       "count  1359.000000          1359.000000           1359.000000  1359.000000   \n",
       "mean      0.088124            15.893304             46.825975     0.996709   \n",
       "std       0.049377            10.447270             33.408946     0.001869   \n",
       "min       0.012000             1.000000              6.000000     0.990070   \n",
       "25%       0.070000             7.000000             22.000000     0.995600   \n",
       "50%       0.079000            14.000000             38.000000     0.996700   \n",
       "75%       0.091000            21.000000             63.000000     0.997820   \n",
       "max       0.611000            72.000000            289.000000     1.003690   \n",
       "\n",
       "                pH    sulphates      alcohol      quality  \n",
       "count  1359.000000  1359.000000  1359.000000  1359.000000  \n",
       "mean      3.309787     0.658705    10.432315     5.623252  \n",
       "std       0.155036     0.170667     1.082065     0.823578  \n",
       "min       2.740000     0.330000     8.400000     3.000000  \n",
       "25%       3.210000     0.550000     9.500000     5.000000  \n",
       "50%       3.310000     0.620000    10.200000     6.000000  \n",
       "75%       3.400000     0.730000    11.100000     6.000000  \n",
       "max       4.010000     2.000000    14.900000     8.000000  "
      ]
     },
     "execution_count": 15,
     "metadata": {},
     "output_type": "execute_result"
    }
   ],
   "source": [
    "df_red.describe()"
   ]
  },
  {
   "cell_type": "code",
   "execution_count": 16,
   "metadata": {},
   "outputs": [
    {
     "data": {
      "text/html": [
       "<div>\n",
       "<style scoped>\n",
       "    .dataframe tbody tr th:only-of-type {\n",
       "        vertical-align: middle;\n",
       "    }\n",
       "\n",
       "    .dataframe tbody tr th {\n",
       "        vertical-align: top;\n",
       "    }\n",
       "\n",
       "    .dataframe thead th {\n",
       "        text-align: right;\n",
       "    }\n",
       "</style>\n",
       "<table border=\"1\" class=\"dataframe\">\n",
       "  <thead>\n",
       "    <tr style=\"text-align: right;\">\n",
       "      <th></th>\n",
       "      <th>fixed_acidity</th>\n",
       "      <th>volatile_acidity</th>\n",
       "      <th>citric_acid</th>\n",
       "      <th>residual_sugar</th>\n",
       "      <th>chlorides</th>\n",
       "      <th>free_sulfur_dioxide</th>\n",
       "      <th>total_sulfur_dioxide</th>\n",
       "      <th>density</th>\n",
       "      <th>pH</th>\n",
       "      <th>sulphates</th>\n",
       "      <th>alcohol</th>\n",
       "      <th>quality</th>\n",
       "    </tr>\n",
       "  </thead>\n",
       "  <tbody>\n",
       "    <tr>\n",
       "      <th>count</th>\n",
       "      <td>3961.000000</td>\n",
       "      <td>3961.000000</td>\n",
       "      <td>3961.000000</td>\n",
       "      <td>3961.000000</td>\n",
       "      <td>3961.000000</td>\n",
       "      <td>3961.000000</td>\n",
       "      <td>3961.000000</td>\n",
       "      <td>3961.000000</td>\n",
       "      <td>3961.000000</td>\n",
       "      <td>3961.000000</td>\n",
       "      <td>3961.000000</td>\n",
       "      <td>3961.000000</td>\n",
       "    </tr>\n",
       "    <tr>\n",
       "      <th>mean</th>\n",
       "      <td>6.839346</td>\n",
       "      <td>0.280538</td>\n",
       "      <td>0.334332</td>\n",
       "      <td>5.914819</td>\n",
       "      <td>0.045905</td>\n",
       "      <td>34.889169</td>\n",
       "      <td>137.193512</td>\n",
       "      <td>0.993790</td>\n",
       "      <td>3.195458</td>\n",
       "      <td>0.490351</td>\n",
       "      <td>10.589358</td>\n",
       "      <td>5.854835</td>\n",
       "    </tr>\n",
       "    <tr>\n",
       "      <th>std</th>\n",
       "      <td>0.866860</td>\n",
       "      <td>0.103437</td>\n",
       "      <td>0.122446</td>\n",
       "      <td>4.861646</td>\n",
       "      <td>0.023103</td>\n",
       "      <td>17.210021</td>\n",
       "      <td>43.129065</td>\n",
       "      <td>0.002905</td>\n",
       "      <td>0.151546</td>\n",
       "      <td>0.113523</td>\n",
       "      <td>1.217076</td>\n",
       "      <td>0.890683</td>\n",
       "    </tr>\n",
       "    <tr>\n",
       "      <th>min</th>\n",
       "      <td>3.800000</td>\n",
       "      <td>0.080000</td>\n",
       "      <td>0.000000</td>\n",
       "      <td>0.600000</td>\n",
       "      <td>0.009000</td>\n",
       "      <td>2.000000</td>\n",
       "      <td>9.000000</td>\n",
       "      <td>0.987110</td>\n",
       "      <td>2.720000</td>\n",
       "      <td>0.220000</td>\n",
       "      <td>8.000000</td>\n",
       "      <td>3.000000</td>\n",
       "    </tr>\n",
       "    <tr>\n",
       "      <th>25%</th>\n",
       "      <td>6.300000</td>\n",
       "      <td>0.210000</td>\n",
       "      <td>0.270000</td>\n",
       "      <td>1.600000</td>\n",
       "      <td>0.035000</td>\n",
       "      <td>23.000000</td>\n",
       "      <td>106.000000</td>\n",
       "      <td>0.991620</td>\n",
       "      <td>3.090000</td>\n",
       "      <td>0.410000</td>\n",
       "      <td>9.500000</td>\n",
       "      <td>5.000000</td>\n",
       "    </tr>\n",
       "    <tr>\n",
       "      <th>50%</th>\n",
       "      <td>6.800000</td>\n",
       "      <td>0.260000</td>\n",
       "      <td>0.320000</td>\n",
       "      <td>4.700000</td>\n",
       "      <td>0.042000</td>\n",
       "      <td>33.000000</td>\n",
       "      <td>133.000000</td>\n",
       "      <td>0.993500</td>\n",
       "      <td>3.180000</td>\n",
       "      <td>0.480000</td>\n",
       "      <td>10.400000</td>\n",
       "      <td>6.000000</td>\n",
       "    </tr>\n",
       "    <tr>\n",
       "      <th>75%</th>\n",
       "      <td>7.300000</td>\n",
       "      <td>0.330000</td>\n",
       "      <td>0.390000</td>\n",
       "      <td>8.900000</td>\n",
       "      <td>0.050000</td>\n",
       "      <td>45.000000</td>\n",
       "      <td>166.000000</td>\n",
       "      <td>0.995710</td>\n",
       "      <td>3.290000</td>\n",
       "      <td>0.550000</td>\n",
       "      <td>11.400000</td>\n",
       "      <td>6.000000</td>\n",
       "    </tr>\n",
       "    <tr>\n",
       "      <th>max</th>\n",
       "      <td>14.200000</td>\n",
       "      <td>1.100000</td>\n",
       "      <td>1.660000</td>\n",
       "      <td>65.800000</td>\n",
       "      <td>0.346000</td>\n",
       "      <td>289.000000</td>\n",
       "      <td>440.000000</td>\n",
       "      <td>1.038980</td>\n",
       "      <td>3.820000</td>\n",
       "      <td>1.080000</td>\n",
       "      <td>14.200000</td>\n",
       "      <td>9.000000</td>\n",
       "    </tr>\n",
       "  </tbody>\n",
       "</table>\n",
       "</div>"
      ],
      "text/plain": [
       "       fixed_acidity  volatile_acidity  citric_acid  residual_sugar  \\\n",
       "count    3961.000000       3961.000000  3961.000000     3961.000000   \n",
       "mean        6.839346          0.280538     0.334332        5.914819   \n",
       "std         0.866860          0.103437     0.122446        4.861646   \n",
       "min         3.800000          0.080000     0.000000        0.600000   \n",
       "25%         6.300000          0.210000     0.270000        1.600000   \n",
       "50%         6.800000          0.260000     0.320000        4.700000   \n",
       "75%         7.300000          0.330000     0.390000        8.900000   \n",
       "max        14.200000          1.100000     1.660000       65.800000   \n",
       "\n",
       "         chlorides  free_sulfur_dioxide  total_sulfur_dioxide      density  \\\n",
       "count  3961.000000          3961.000000           3961.000000  3961.000000   \n",
       "mean      0.045905            34.889169            137.193512     0.993790   \n",
       "std       0.023103            17.210021             43.129065     0.002905   \n",
       "min       0.009000             2.000000              9.000000     0.987110   \n",
       "25%       0.035000            23.000000            106.000000     0.991620   \n",
       "50%       0.042000            33.000000            133.000000     0.993500   \n",
       "75%       0.050000            45.000000            166.000000     0.995710   \n",
       "max       0.346000           289.000000            440.000000     1.038980   \n",
       "\n",
       "                pH    sulphates      alcohol      quality  \n",
       "count  3961.000000  3961.000000  3961.000000  3961.000000  \n",
       "mean      3.195458     0.490351    10.589358     5.854835  \n",
       "std       0.151546     0.113523     1.217076     0.890683  \n",
       "min       2.720000     0.220000     8.000000     3.000000  \n",
       "25%       3.090000     0.410000     9.500000     5.000000  \n",
       "50%       3.180000     0.480000    10.400000     6.000000  \n",
       "75%       3.290000     0.550000    11.400000     6.000000  \n",
       "max       3.820000     1.080000    14.200000     9.000000  "
      ]
     },
     "execution_count": 16,
     "metadata": {},
     "output_type": "execute_result"
    }
   ],
   "source": [
    "df_white.describe()"
   ]
  },
  {
   "cell_type": "markdown",
   "metadata": {},
   "source": [
    "### Appending the Color to each dataframe & displaying the Edited dataset"
   ]
  },
  {
   "cell_type": "code",
   "execution_count": 17,
   "metadata": {},
   "outputs": [
    {
     "data": {
      "text/html": [
       "<div>\n",
       "<style scoped>\n",
       "    .dataframe tbody tr th:only-of-type {\n",
       "        vertical-align: middle;\n",
       "    }\n",
       "\n",
       "    .dataframe tbody tr th {\n",
       "        vertical-align: top;\n",
       "    }\n",
       "\n",
       "    .dataframe thead th {\n",
       "        text-align: right;\n",
       "    }\n",
       "</style>\n",
       "<table border=\"1\" class=\"dataframe\">\n",
       "  <thead>\n",
       "    <tr style=\"text-align: right;\">\n",
       "      <th></th>\n",
       "      <th>fixed_acidity</th>\n",
       "      <th>volatile_acidity</th>\n",
       "      <th>citric_acid</th>\n",
       "      <th>residual_sugar</th>\n",
       "      <th>chlorides</th>\n",
       "      <th>free_sulfur_dioxide</th>\n",
       "      <th>total_sulfur_dioxide</th>\n",
       "      <th>density</th>\n",
       "      <th>pH</th>\n",
       "      <th>sulphates</th>\n",
       "      <th>alcohol</th>\n",
       "      <th>quality</th>\n",
       "      <th>color</th>\n",
       "    </tr>\n",
       "  </thead>\n",
       "  <tbody>\n",
       "    <tr>\n",
       "      <th>0</th>\n",
       "      <td>7.4</td>\n",
       "      <td>0.70</td>\n",
       "      <td>0.00</td>\n",
       "      <td>1.9</td>\n",
       "      <td>0.076</td>\n",
       "      <td>11.0</td>\n",
       "      <td>34.0</td>\n",
       "      <td>0.9978</td>\n",
       "      <td>3.51</td>\n",
       "      <td>0.56</td>\n",
       "      <td>9.4</td>\n",
       "      <td>5</td>\n",
       "      <td>red</td>\n",
       "    </tr>\n",
       "    <tr>\n",
       "      <th>1</th>\n",
       "      <td>7.8</td>\n",
       "      <td>0.88</td>\n",
       "      <td>0.00</td>\n",
       "      <td>2.6</td>\n",
       "      <td>0.098</td>\n",
       "      <td>25.0</td>\n",
       "      <td>67.0</td>\n",
       "      <td>0.9968</td>\n",
       "      <td>3.20</td>\n",
       "      <td>0.68</td>\n",
       "      <td>9.8</td>\n",
       "      <td>5</td>\n",
       "      <td>red</td>\n",
       "    </tr>\n",
       "    <tr>\n",
       "      <th>2</th>\n",
       "      <td>7.8</td>\n",
       "      <td>0.76</td>\n",
       "      <td>0.04</td>\n",
       "      <td>2.3</td>\n",
       "      <td>0.092</td>\n",
       "      <td>15.0</td>\n",
       "      <td>54.0</td>\n",
       "      <td>0.9970</td>\n",
       "      <td>3.26</td>\n",
       "      <td>0.65</td>\n",
       "      <td>9.8</td>\n",
       "      <td>5</td>\n",
       "      <td>red</td>\n",
       "    </tr>\n",
       "    <tr>\n",
       "      <th>3</th>\n",
       "      <td>11.2</td>\n",
       "      <td>0.28</td>\n",
       "      <td>0.56</td>\n",
       "      <td>1.9</td>\n",
       "      <td>0.075</td>\n",
       "      <td>17.0</td>\n",
       "      <td>60.0</td>\n",
       "      <td>0.9980</td>\n",
       "      <td>3.16</td>\n",
       "      <td>0.58</td>\n",
       "      <td>9.8</td>\n",
       "      <td>6</td>\n",
       "      <td>red</td>\n",
       "    </tr>\n",
       "    <tr>\n",
       "      <th>5</th>\n",
       "      <td>7.4</td>\n",
       "      <td>0.66</td>\n",
       "      <td>0.00</td>\n",
       "      <td>1.8</td>\n",
       "      <td>0.075</td>\n",
       "      <td>13.0</td>\n",
       "      <td>40.0</td>\n",
       "      <td>0.9978</td>\n",
       "      <td>3.51</td>\n",
       "      <td>0.56</td>\n",
       "      <td>9.4</td>\n",
       "      <td>5</td>\n",
       "      <td>red</td>\n",
       "    </tr>\n",
       "  </tbody>\n",
       "</table>\n",
       "</div>"
      ],
      "text/plain": [
       "   fixed_acidity  volatile_acidity  citric_acid  residual_sugar  chlorides  \\\n",
       "0            7.4              0.70         0.00             1.9      0.076   \n",
       "1            7.8              0.88         0.00             2.6      0.098   \n",
       "2            7.8              0.76         0.04             2.3      0.092   \n",
       "3           11.2              0.28         0.56             1.9      0.075   \n",
       "5            7.4              0.66         0.00             1.8      0.075   \n",
       "\n",
       "   free_sulfur_dioxide  total_sulfur_dioxide  density    pH  sulphates  \\\n",
       "0                 11.0                  34.0   0.9978  3.51       0.56   \n",
       "1                 25.0                  67.0   0.9968  3.20       0.68   \n",
       "2                 15.0                  54.0   0.9970  3.26       0.65   \n",
       "3                 17.0                  60.0   0.9980  3.16       0.58   \n",
       "5                 13.0                  40.0   0.9978  3.51       0.56   \n",
       "\n",
       "   alcohol  quality color  \n",
       "0      9.4        5   red  \n",
       "1      9.8        5   red  \n",
       "2      9.8        5   red  \n",
       "3      9.8        6   red  \n",
       "5      9.4        5   red  "
      ]
     },
     "execution_count": 17,
     "metadata": {},
     "output_type": "execute_result"
    }
   ],
   "source": [
    "df_red['color'] = 'red'\n",
    "df_red.head()"
   ]
  },
  {
   "cell_type": "code",
   "execution_count": 18,
   "metadata": {},
   "outputs": [
    {
     "data": {
      "text/html": [
       "<div>\n",
       "<style scoped>\n",
       "    .dataframe tbody tr th:only-of-type {\n",
       "        vertical-align: middle;\n",
       "    }\n",
       "\n",
       "    .dataframe tbody tr th {\n",
       "        vertical-align: top;\n",
       "    }\n",
       "\n",
       "    .dataframe thead th {\n",
       "        text-align: right;\n",
       "    }\n",
       "</style>\n",
       "<table border=\"1\" class=\"dataframe\">\n",
       "  <thead>\n",
       "    <tr style=\"text-align: right;\">\n",
       "      <th></th>\n",
       "      <th>fixed_acidity</th>\n",
       "      <th>volatile_acidity</th>\n",
       "      <th>citric_acid</th>\n",
       "      <th>residual_sugar</th>\n",
       "      <th>chlorides</th>\n",
       "      <th>free_sulfur_dioxide</th>\n",
       "      <th>total_sulfur_dioxide</th>\n",
       "      <th>density</th>\n",
       "      <th>pH</th>\n",
       "      <th>sulphates</th>\n",
       "      <th>alcohol</th>\n",
       "      <th>quality</th>\n",
       "      <th>color</th>\n",
       "    </tr>\n",
       "  </thead>\n",
       "  <tbody>\n",
       "    <tr>\n",
       "      <th>0</th>\n",
       "      <td>7.0</td>\n",
       "      <td>0.27</td>\n",
       "      <td>0.36</td>\n",
       "      <td>20.7</td>\n",
       "      <td>0.045</td>\n",
       "      <td>45.0</td>\n",
       "      <td>170.0</td>\n",
       "      <td>1.0010</td>\n",
       "      <td>3.00</td>\n",
       "      <td>0.45</td>\n",
       "      <td>8.8</td>\n",
       "      <td>6</td>\n",
       "      <td>white</td>\n",
       "    </tr>\n",
       "    <tr>\n",
       "      <th>1</th>\n",
       "      <td>6.3</td>\n",
       "      <td>0.30</td>\n",
       "      <td>0.34</td>\n",
       "      <td>1.6</td>\n",
       "      <td>0.049</td>\n",
       "      <td>14.0</td>\n",
       "      <td>132.0</td>\n",
       "      <td>0.9940</td>\n",
       "      <td>3.30</td>\n",
       "      <td>0.49</td>\n",
       "      <td>9.5</td>\n",
       "      <td>6</td>\n",
       "      <td>white</td>\n",
       "    </tr>\n",
       "    <tr>\n",
       "      <th>2</th>\n",
       "      <td>8.1</td>\n",
       "      <td>0.28</td>\n",
       "      <td>0.40</td>\n",
       "      <td>6.9</td>\n",
       "      <td>0.050</td>\n",
       "      <td>30.0</td>\n",
       "      <td>97.0</td>\n",
       "      <td>0.9951</td>\n",
       "      <td>3.26</td>\n",
       "      <td>0.44</td>\n",
       "      <td>10.1</td>\n",
       "      <td>6</td>\n",
       "      <td>white</td>\n",
       "    </tr>\n",
       "    <tr>\n",
       "      <th>3</th>\n",
       "      <td>7.2</td>\n",
       "      <td>0.23</td>\n",
       "      <td>0.32</td>\n",
       "      <td>8.5</td>\n",
       "      <td>0.058</td>\n",
       "      <td>47.0</td>\n",
       "      <td>186.0</td>\n",
       "      <td>0.9956</td>\n",
       "      <td>3.19</td>\n",
       "      <td>0.40</td>\n",
       "      <td>9.9</td>\n",
       "      <td>6</td>\n",
       "      <td>white</td>\n",
       "    </tr>\n",
       "    <tr>\n",
       "      <th>6</th>\n",
       "      <td>6.2</td>\n",
       "      <td>0.32</td>\n",
       "      <td>0.16</td>\n",
       "      <td>7.0</td>\n",
       "      <td>0.045</td>\n",
       "      <td>30.0</td>\n",
       "      <td>136.0</td>\n",
       "      <td>0.9949</td>\n",
       "      <td>3.18</td>\n",
       "      <td>0.47</td>\n",
       "      <td>9.6</td>\n",
       "      <td>6</td>\n",
       "      <td>white</td>\n",
       "    </tr>\n",
       "  </tbody>\n",
       "</table>\n",
       "</div>"
      ],
      "text/plain": [
       "   fixed_acidity  volatile_acidity  citric_acid  residual_sugar  chlorides  \\\n",
       "0            7.0              0.27         0.36            20.7      0.045   \n",
       "1            6.3              0.30         0.34             1.6      0.049   \n",
       "2            8.1              0.28         0.40             6.9      0.050   \n",
       "3            7.2              0.23         0.32             8.5      0.058   \n",
       "6            6.2              0.32         0.16             7.0      0.045   \n",
       "\n",
       "   free_sulfur_dioxide  total_sulfur_dioxide  density    pH  sulphates  \\\n",
       "0                 45.0                 170.0   1.0010  3.00       0.45   \n",
       "1                 14.0                 132.0   0.9940  3.30       0.49   \n",
       "2                 30.0                  97.0   0.9951  3.26       0.44   \n",
       "3                 47.0                 186.0   0.9956  3.19       0.40   \n",
       "6                 30.0                 136.0   0.9949  3.18       0.47   \n",
       "\n",
       "   alcohol  quality  color  \n",
       "0      8.8        6  white  \n",
       "1      9.5        6  white  \n",
       "2     10.1        6  white  \n",
       "3      9.9        6  white  \n",
       "6      9.6        6  white  "
      ]
     },
     "execution_count": 18,
     "metadata": {},
     "output_type": "execute_result"
    }
   ],
   "source": [
    "df_white['color'] = 'white'\n",
    "df_white.head()"
   ]
  },
  {
   "cell_type": "markdown",
   "metadata": {},
   "source": [
    "### Appending datasets of both the WINES"
   ]
  },
  {
   "cell_type": "code",
   "execution_count": 19,
   "metadata": {},
   "outputs": [
    {
     "data": {
      "text/html": [
       "<div>\n",
       "<style scoped>\n",
       "    .dataframe tbody tr th:only-of-type {\n",
       "        vertical-align: middle;\n",
       "    }\n",
       "\n",
       "    .dataframe tbody tr th {\n",
       "        vertical-align: top;\n",
       "    }\n",
       "\n",
       "    .dataframe thead th {\n",
       "        text-align: right;\n",
       "    }\n",
       "</style>\n",
       "<table border=\"1\" class=\"dataframe\">\n",
       "  <thead>\n",
       "    <tr style=\"text-align: right;\">\n",
       "      <th></th>\n",
       "      <th>fixed_acidity</th>\n",
       "      <th>volatile_acidity</th>\n",
       "      <th>citric_acid</th>\n",
       "      <th>residual_sugar</th>\n",
       "      <th>chlorides</th>\n",
       "      <th>free_sulfur_dioxide</th>\n",
       "      <th>total_sulfur_dioxide</th>\n",
       "      <th>density</th>\n",
       "      <th>pH</th>\n",
       "      <th>sulphates</th>\n",
       "      <th>alcohol</th>\n",
       "      <th>quality</th>\n",
       "      <th>color</th>\n",
       "    </tr>\n",
       "  </thead>\n",
       "  <tbody>\n",
       "    <tr>\n",
       "      <th>0</th>\n",
       "      <td>7.4</td>\n",
       "      <td>0.70</td>\n",
       "      <td>0.00</td>\n",
       "      <td>1.9</td>\n",
       "      <td>0.076</td>\n",
       "      <td>11.0</td>\n",
       "      <td>34.0</td>\n",
       "      <td>0.9978</td>\n",
       "      <td>3.51</td>\n",
       "      <td>0.56</td>\n",
       "      <td>9.4</td>\n",
       "      <td>5</td>\n",
       "      <td>red</td>\n",
       "    </tr>\n",
       "    <tr>\n",
       "      <th>1</th>\n",
       "      <td>7.8</td>\n",
       "      <td>0.88</td>\n",
       "      <td>0.00</td>\n",
       "      <td>2.6</td>\n",
       "      <td>0.098</td>\n",
       "      <td>25.0</td>\n",
       "      <td>67.0</td>\n",
       "      <td>0.9968</td>\n",
       "      <td>3.20</td>\n",
       "      <td>0.68</td>\n",
       "      <td>9.8</td>\n",
       "      <td>5</td>\n",
       "      <td>red</td>\n",
       "    </tr>\n",
       "    <tr>\n",
       "      <th>2</th>\n",
       "      <td>7.8</td>\n",
       "      <td>0.76</td>\n",
       "      <td>0.04</td>\n",
       "      <td>2.3</td>\n",
       "      <td>0.092</td>\n",
       "      <td>15.0</td>\n",
       "      <td>54.0</td>\n",
       "      <td>0.9970</td>\n",
       "      <td>3.26</td>\n",
       "      <td>0.65</td>\n",
       "      <td>9.8</td>\n",
       "      <td>5</td>\n",
       "      <td>red</td>\n",
       "    </tr>\n",
       "    <tr>\n",
       "      <th>3</th>\n",
       "      <td>11.2</td>\n",
       "      <td>0.28</td>\n",
       "      <td>0.56</td>\n",
       "      <td>1.9</td>\n",
       "      <td>0.075</td>\n",
       "      <td>17.0</td>\n",
       "      <td>60.0</td>\n",
       "      <td>0.9980</td>\n",
       "      <td>3.16</td>\n",
       "      <td>0.58</td>\n",
       "      <td>9.8</td>\n",
       "      <td>6</td>\n",
       "      <td>red</td>\n",
       "    </tr>\n",
       "    <tr>\n",
       "      <th>5</th>\n",
       "      <td>7.4</td>\n",
       "      <td>0.66</td>\n",
       "      <td>0.00</td>\n",
       "      <td>1.8</td>\n",
       "      <td>0.075</td>\n",
       "      <td>13.0</td>\n",
       "      <td>40.0</td>\n",
       "      <td>0.9978</td>\n",
       "      <td>3.51</td>\n",
       "      <td>0.56</td>\n",
       "      <td>9.4</td>\n",
       "      <td>5</td>\n",
       "      <td>red</td>\n",
       "    </tr>\n",
       "  </tbody>\n",
       "</table>\n",
       "</div>"
      ],
      "text/plain": [
       "   fixed_acidity  volatile_acidity  citric_acid  residual_sugar  chlorides  \\\n",
       "0            7.4              0.70         0.00             1.9      0.076   \n",
       "1            7.8              0.88         0.00             2.6      0.098   \n",
       "2            7.8              0.76         0.04             2.3      0.092   \n",
       "3           11.2              0.28         0.56             1.9      0.075   \n",
       "5            7.4              0.66         0.00             1.8      0.075   \n",
       "\n",
       "   free_sulfur_dioxide  total_sulfur_dioxide  density    pH  sulphates  \\\n",
       "0                 11.0                  34.0   0.9978  3.51       0.56   \n",
       "1                 25.0                  67.0   0.9968  3.20       0.68   \n",
       "2                 15.0                  54.0   0.9970  3.26       0.65   \n",
       "3                 17.0                  60.0   0.9980  3.16       0.58   \n",
       "5                 13.0                  40.0   0.9978  3.51       0.56   \n",
       "\n",
       "   alcohol  quality color  \n",
       "0      9.4        5   red  \n",
       "1      9.8        5   red  \n",
       "2      9.8        5   red  \n",
       "3      9.8        6   red  \n",
       "5      9.4        5   red  "
      ]
     },
     "execution_count": 19,
     "metadata": {},
     "output_type": "execute_result"
    }
   ],
   "source": [
    "df1 = df_red.append(df_white)\n",
    "wines_df = df1\n",
    "wines_df.head()"
   ]
  },
  {
   "cell_type": "markdown",
   "metadata": {},
   "source": [
    "## Exploratory Data Analysis"
   ]
  },
  {
   "cell_type": "markdown",
   "metadata": {},
   "source": [
    "#### Let's check which Wine has higher quality:"
   ]
  },
  {
   "cell_type": "code",
   "execution_count": 20,
   "metadata": {},
   "outputs": [
    {
     "data": {
      "text/plain": [
       "color\n",
       "red      5.623252\n",
       "white    5.854835\n",
       "Name: quality, dtype: float64"
      ]
     },
     "execution_count": 20,
     "metadata": {},
     "output_type": "execute_result"
    }
   ],
   "source": [
    "wines_df.groupby(['color'])['quality'].mean()"
   ]
  },
  {
   "cell_type": "markdown",
   "metadata": {},
   "source": [
    "Here, we can see that **White Wine** has higher quality."
   ]
  },
  {
   "cell_type": "markdown",
   "metadata": {},
   "source": [
    "## Correlation Matrix for Quality (Both, Red & White)"
   ]
  },
  {
   "cell_type": "code",
   "execution_count": 21,
   "metadata": {},
   "outputs": [
    {
     "data": {
      "text/plain": [
       "Text(0.5, 1.0, 'Correlation Matrix of Both Wines (for Quality)')"
      ]
     },
     "execution_count": 21,
     "metadata": {},
     "output_type": "execute_result"
    },
    {
     "data": {
      "image/png": "[encoded data removed]",
      "text/plain": [
       "<Figure size 1152x360 with 2 Axes>"
      ]
     },
     "metadata": {
      "needs_background": "light"
     },
     "output_type": "display_data"
    }
   ],
   "source": [
    "plt.figure(figsize=(16,5))\n",
    "sns.heatmap(wines_df.corr(),annot=True)\n",
    "plt.title('Correlation Matrix of Both Wines (for Quality)')"
   ]
  },
  {
   "cell_type": "code",
   "execution_count": 22,
   "metadata": {},
   "outputs": [
    {
     "data": {
      "text/plain": [
       "Text(0.5, 1.0, 'Correlation Matrix of Red Wine (for Quality)')"
      ]
     },
     "execution_count": 22,
     "metadata": {},
     "output_type": "execute_result"
    },
    {
     "data": {
      "image/png": "[encoded data removed]",
      "text/plain": [
       "<Figure size 1152x360 with 2 Axes>"
      ]
     },
     "metadata": {
      "needs_background": "light"
     },
     "output_type": "display_data"
    }
   ],
   "source": [
    "plt.figure(figsize=(16,5))\n",
    "sns.heatmap(df_red.corr(),annot=True)\n",
    "plt.title('Correlation Matrix of Red Wine (for Quality)')"
   ]
  },
  {
   "cell_type": "code",
   "execution_count": 23,
   "metadata": {},
   "outputs": [
    {
     "data": {
      "text/plain": [
       "Text(0.5, 1.0, 'Correlation Matrix of White Wine (for Quality)')"
      ]
     },
     "execution_count": 23,
     "metadata": {},
     "output_type": "execute_result"
    },
    {
     "data": {
      "image/png": "[encoded data removed]",
      "text/plain": [
       "<Figure size 1152x360 with 2 Axes>"
      ]
     },
     "metadata": {
      "needs_background": "light"
     },
     "output_type": "display_data"
    }
   ],
   "source": [
    "plt.figure(figsize=(16,5))\n",
    "sns.heatmap(df_white.corr(),annot=True)\n",
    "plt.title('Correlation Matrix of White Wine (for Quality)')"
   ]
  },
  {
   "cell_type": "markdown",
   "metadata": {},
   "source": [
    "Here, for all the 3 categories, we can see that **Sulfur dioxide** is highly correlated with the Quality of a wine. Followed by **Density & Alcohol**"
   ]
  },
  {
   "cell_type": "markdown",
   "metadata": {},
   "source": [
    "### Let's set & check the Number of wines by Quality standards"
   ]
  },
  {
   "cell_type": "code",
   "execution_count": 24,
   "metadata": {},
   "outputs": [
    {
     "data": {
      "text/plain": [
       "<matplotlib.axes._subplots.AxesSubplot at 0x7f9f6be03050>"
      ]
     },
     "execution_count": 24,
     "metadata": {},
     "output_type": "execute_result"
    },
    {
     "data": {
      "image/png": "[encoded data removed]",
      "text/plain": [
       "<Figure size 432x288 with 1 Axes>"
      ]
     },
     "metadata": {
      "needs_background": "light"
     },
     "output_type": "display_data"
    }
   ],
   "source": [
    "sns.countplot(wines_df[\"quality\"], palette=\"muted\")"
   ]
  },
  {
   "cell_type": "markdown",
   "metadata": {},
   "source": [
    "**Wine Quality Standards:**\n",
    "\n",
    "3,4 = Low\n",
    "\n",
    "5,6 = Medium\n",
    "\n",
    "7,8,9 = High"
   ]
  },
  {
   "cell_type": "code",
   "execution_count": 25,
   "metadata": {},
   "outputs": [],
   "source": [
    "quality = wines_df[\"quality\"].values\n",
    "category = []\n",
    "for num in quality:\n",
    "    if num < 5:\n",
    "        category.append(\"Low\")\n",
    "    elif num > 6:\n",
    "        category.append(\"High\")\n",
    "    else:\n",
    "        category.append(\"Medium\")"
   ]
  },
  {
   "cell_type": "code",
   "execution_count": 26,
   "metadata": {},
   "outputs": [
    {
     "name": "stdout",
     "output_type": "stream",
     "text": [
      "[('Low', 236), ('Medium', 4075), ('High', 1009)]\n"
     ]
    },
    {
     "data": {
      "text/plain": [
       "<matplotlib.axes._subplots.AxesSubplot at 0x7f9f6c3e80d0>"
      ]
     },
     "execution_count": 26,
     "metadata": {},
     "output_type": "execute_result"
    },
    {
     "data": {
      "image/png": "[encoded data removed]",
      "text/plain": [
       "<Figure size 720x432 with 1 Axes>"
      ]
     },
     "metadata": {
      "needs_background": "light"
     },
     "output_type": "display_data"
    }
   ],
   "source": [
    "print([(i, category.count(i)) for i in set(category)])\n",
    "plt.figure(figsize=(10, 6))\n",
    "sns.countplot(category, palette=\"muted\")"
   ]
  },
  {
   "cell_type": "markdown",
   "metadata": {},
   "source": [
    "### Proportions"
   ]
  },
  {
   "cell_type": "code",
   "execution_count": 27,
   "metadata": {},
   "outputs": [
    {
     "data": {
      "image/png": "[encoded data removed]",
      "text/plain": [
       "<Figure size 432x288 with 1 Axes>"
      ]
     },
     "metadata": {},
     "output_type": "display_data"
    }
   ],
   "source": [
    "sns.set_style('darkgrid')\n",
    "\n",
    "# getting counts for each rating and color\n",
    "color_counts = wines_df.groupby(['color', 'quality']).count()['pH']\n",
    "\n",
    "# getting total counts for each color\n",
    "color_totals = wines_df.groupby('color').count()['pH']\n",
    "\n",
    "# getting proportions by dividing red rating counts by total # of red samples\n",
    "red_proportions = color_counts['red'] / color_totals['red']\n",
    "\n",
    "# getting proportions by dividing white rating counts by total # of white samples\n",
    "white_proportions = color_counts['white'] / color_totals['white']\n",
    "\n",
    "\n",
    "red_proportions['9'] = 0\n",
    "\n",
    "\n",
    "ind = np.arange(len(red_proportions))  # the x locations for the groups\n",
    "width = 0.35       # the width of the bars\n",
    "\n",
    "# plot bars\n",
    "red_bars = plt.bar(ind, red_proportions, width, color='r', alpha=.7, label='Red Wine')\n",
    "white_bars = plt.bar(ind + width, white_proportions, width, color='w', alpha=.7, label='White Wine')\n",
    "\n",
    "# title and labels\n",
    "plt.ylabel('Proportion')\n",
    "plt.xlabel('Quality')\n",
    "plt.title('Proportion by Wine Color and Quality')\n",
    "locations = ind + width / 2  # xtick locations\n",
    "labels = ['3', '4', '5', '6', '7', '8', '9']  # xtick labels\n",
    "plt.xticks(locations, labels)\n",
    "\n",
    "# legend\n",
    "plt.legend();"
   ]
  },
  {
   "cell_type": "markdown",
   "metadata": {},
   "source": [
    "# We will Test & Predict for Red Wine"
   ]
  },
  {
   "cell_type": "markdown",
   "metadata": {},
   "source": [
    "#### Using Linear Regression"
   ]
  },
  {
   "cell_type": "code",
   "execution_count": 28,
   "metadata": {},
   "outputs": [],
   "source": [
    "from sklearn.model_selection import train_test_split\n",
    "from sklearn.linear_model import LinearRegression\n",
    "from sklearn import metrics"
   ]
  },
  {
   "cell_type": "code",
   "execution_count": 29,
   "metadata": {},
   "outputs": [
    {
     "name": "stdout",
     "output_type": "stream",
     "text": [
      "fixed_acidity           0.119024\n",
      "volatile_acidity       -0.395214\n",
      "citric_acid             0.228057\n",
      "residual_sugar          0.013640\n",
      "chlorides              -0.130988\n",
      "free_sulfur_dioxide    -0.050463\n",
      "total_sulfur_dioxide   -0.177855\n",
      "density                -0.184252\n",
      "pH                     -0.055245\n",
      "sulphates               0.248835\n",
      "alcohol                 0.480343\n",
      "Name: quality, dtype: float64\n"
     ]
    }
   ],
   "source": [
    "correlations = df_red.corr()['quality'].drop('quality')\n",
    "print(correlations)"
   ]
  },
  {
   "cell_type": "code",
   "execution_count": 30,
   "metadata": {},
   "outputs": [],
   "source": [
    "def get_features(correlation_threshold):\n",
    "    max_corrs = correlations.abs()\n",
    "    high_correaltions = max_corrs\n",
    "    high_correaltions =  max_corrs[max_corrs > correlation_threshold].index.values.tolist()\n",
    "\n",
    "    return high_correaltions"
   ]
  },
  {
   "cell_type": "code",
   "execution_count": 31,
   "metadata": {},
   "outputs": [
    {
     "name": "stdout",
     "output_type": "stream",
     "text": [
      "['fixed_acidity', 'volatile_acidity', 'citric_acid', 'chlorides', 'total_sulfur_dioxide', 'density', 'sulphates', 'alcohol']\n"
     ]
    }
   ],
   "source": [
    "features = get_features(0.1)\n",
    "print(features)"
   ]
  },
  {
   "cell_type": "markdown",
   "metadata": {},
   "source": [
    "### Splitting into Train and Test sets"
   ]
  },
  {
   "cell_type": "code",
   "execution_count": 32,
   "metadata": {},
   "outputs": [],
   "source": [
    "X = df_red[features]\n",
    "y = df_red['quality'] "
   ]
  },
  {
   "cell_type": "code",
   "execution_count": 33,
   "metadata": {},
   "outputs": [
    {
     "data": {
      "text/html": [
       "<div>\n",
       "<style scoped>\n",
       "    .dataframe tbody tr th:only-of-type {\n",
       "        vertical-align: middle;\n",
       "    }\n",
       "\n",
       "    .dataframe tbody tr th {\n",
       "        vertical-align: top;\n",
       "    }\n",
       "\n",
       "    .dataframe thead th {\n",
       "        text-align: right;\n",
       "    }\n",
       "</style>\n",
       "<table border=\"1\" class=\"dataframe\">\n",
       "  <thead>\n",
       "    <tr style=\"text-align: right;\">\n",
       "      <th></th>\n",
       "      <th>fixed_acidity</th>\n",
       "      <th>volatile_acidity</th>\n",
       "      <th>citric_acid</th>\n",
       "      <th>chlorides</th>\n",
       "      <th>total_sulfur_dioxide</th>\n",
       "      <th>density</th>\n",
       "      <th>sulphates</th>\n",
       "      <th>alcohol</th>\n",
       "    </tr>\n",
       "  </thead>\n",
       "  <tbody>\n",
       "    <tr>\n",
       "      <th>0</th>\n",
       "      <td>7.4</td>\n",
       "      <td>0.70</td>\n",
       "      <td>0.00</td>\n",
       "      <td>0.076</td>\n",
       "      <td>34.0</td>\n",
       "      <td>0.9978</td>\n",
       "      <td>0.56</td>\n",
       "      <td>9.4</td>\n",
       "    </tr>\n",
       "    <tr>\n",
       "      <th>1</th>\n",
       "      <td>7.8</td>\n",
       "      <td>0.88</td>\n",
       "      <td>0.00</td>\n",
       "      <td>0.098</td>\n",
       "      <td>67.0</td>\n",
       "      <td>0.9968</td>\n",
       "      <td>0.68</td>\n",
       "      <td>9.8</td>\n",
       "    </tr>\n",
       "    <tr>\n",
       "      <th>2</th>\n",
       "      <td>7.8</td>\n",
       "      <td>0.76</td>\n",
       "      <td>0.04</td>\n",
       "      <td>0.092</td>\n",
       "      <td>54.0</td>\n",
       "      <td>0.9970</td>\n",
       "      <td>0.65</td>\n",
       "      <td>9.8</td>\n",
       "    </tr>\n",
       "    <tr>\n",
       "      <th>3</th>\n",
       "      <td>11.2</td>\n",
       "      <td>0.28</td>\n",
       "      <td>0.56</td>\n",
       "      <td>0.075</td>\n",
       "      <td>60.0</td>\n",
       "      <td>0.9980</td>\n",
       "      <td>0.58</td>\n",
       "      <td>9.8</td>\n",
       "    </tr>\n",
       "    <tr>\n",
       "      <th>5</th>\n",
       "      <td>7.4</td>\n",
       "      <td>0.66</td>\n",
       "      <td>0.00</td>\n",
       "      <td>0.075</td>\n",
       "      <td>40.0</td>\n",
       "      <td>0.9978</td>\n",
       "      <td>0.56</td>\n",
       "      <td>9.4</td>\n",
       "    </tr>\n",
       "  </tbody>\n",
       "</table>\n",
       "</div>"
      ],
      "text/plain": [
       "   fixed_acidity  volatile_acidity  citric_acid  chlorides  \\\n",
       "0            7.4              0.70         0.00      0.076   \n",
       "1            7.8              0.88         0.00      0.098   \n",
       "2            7.8              0.76         0.04      0.092   \n",
       "3           11.2              0.28         0.56      0.075   \n",
       "5            7.4              0.66         0.00      0.075   \n",
       "\n",
       "   total_sulfur_dioxide  density  sulphates  alcohol  \n",
       "0                  34.0   0.9978       0.56      9.4  \n",
       "1                  67.0   0.9968       0.68      9.8  \n",
       "2                  54.0   0.9970       0.65      9.8  \n",
       "3                  60.0   0.9980       0.58      9.8  \n",
       "5                  40.0   0.9978       0.56      9.4  "
      ]
     },
     "execution_count": 33,
     "metadata": {},
     "output_type": "execute_result"
    }
   ],
   "source": [
    "X.head()"
   ]
  },
  {
   "cell_type": "code",
   "execution_count": 34,
   "metadata": {},
   "outputs": [
    {
     "data": {
      "text/plain": [
       "0    5\n",
       "1    5\n",
       "2    5\n",
       "3    6\n",
       "5    5\n",
       "Name: quality, dtype: int64"
      ]
     },
     "execution_count": 34,
     "metadata": {},
     "output_type": "execute_result"
    }
   ],
   "source": [
    "y.head()"
   ]
  },
  {
   "cell_type": "code",
   "execution_count": 35,
   "metadata": {},
   "outputs": [],
   "source": [
    "X_train, X_test, y_train, y_test = train_test_split(X, y, test_size=0.3,random_state=0)"
   ]
  },
  {
   "cell_type": "code",
   "execution_count": 36,
   "metadata": {},
   "outputs": [
    {
     "name": "stdout",
     "output_type": "stream",
     "text": [
      "[ 5.16696099e-02 -1.09856706e+00 -3.68034005e-01 -1.29318086e+00\n",
      " -1.40652403e-03 -2.59346998e+00  9.59152262e-01  3.29101526e-01]\n"
     ]
    }
   ],
   "source": [
    "lr = LinearRegression()\n",
    "lr.fit(X_train, y_train)\n",
    "\n",
    "print(lr.coef_)"
   ]
  },
  {
   "cell_type": "code",
   "execution_count": 37,
   "metadata": {},
   "outputs": [
    {
     "name": "stdout",
     "output_type": "stream",
     "text": [
      "[5.75768042 6.36051956 5.74845397 4.98380708 6.54911236 5.39740415\n",
      " 5.34973496 5.45076135 4.90496017 5.24836069 5.62617594 5.28457442\n",
      " 5.7192304  5.97586401 5.83224584 6.21787411 5.1745115  5.11957969\n",
      " 5.35299465 6.24728332 5.37635091 5.35732814 6.52857162 4.96627635\n",
      " 5.09401441 5.28156504 5.30778399 5.58122226 5.65384127 5.0407673\n",
      " 5.17845719 6.8536538  6.23810537 5.0468114  5.40495885 6.57594151\n",
      " 4.99576388 5.13300793 5.30350147 5.30837235 6.14094963 5.25881618\n",
      " 5.60503569 5.21380082 5.44318501 6.77781334 5.20222364 4.77608325\n",
      " 5.29513241 6.07657014 5.38611723 5.41059559 5.81389292 5.760708\n",
      " 6.4021543  6.31275758 6.01882876 5.35745192 5.42334717 5.29365686\n",
      " 5.80030693 6.34106622 5.6892813  6.5230288  5.08486369 5.19770914\n",
      " 5.60501972 5.30141037 5.15476081 6.08372692 6.06297774 6.17443979\n",
      " 4.8014021  5.48780729 5.14226905 6.13439719 5.34643773 6.34173255\n",
      " 5.20136374 5.44410066 6.18245224 5.12771442 5.89879331 5.81659836\n",
      " 5.62767622 5.28457343 6.0329082  5.01290994 4.97201601 5.90567852\n",
      " 6.84750181 4.722413   5.23970895 6.01894766 5.33900772 5.33483364\n",
      " 5.71177734 6.13238846 5.03356835 4.93992613 6.52298747 5.13985348\n",
      " 5.24633961 5.95939597 6.28710505 6.16730904 5.3702956  5.17584242\n",
      " 6.19593517 4.84482668 5.30583738 5.24773441 5.74487739 5.05262059\n",
      " 5.79651133 5.11409227 6.59191212 5.35421083 5.02011441 5.80288743\n",
      " 5.77053431 5.27498689 5.7727942  6.06777634 5.91818569 5.609591\n",
      " 5.52767223 5.80877664 5.01352752 6.46051543 5.5228834  6.49175791\n",
      " 5.21259007 6.00776867 6.34571571 5.7204434  4.96968217 5.30964935\n",
      " 5.1870108  6.03627155 5.62326869 6.39491141 5.38541677 6.03008732\n",
      " 5.27639117 4.90481967 5.94292953 6.43412788 5.5411086  6.37927056\n",
      " 5.97141703 5.96057826 5.84966069 6.49113382 5.32430564 5.55344048\n",
      " 5.42531951 5.28524852 5.68984549 5.57374112 4.92391834 5.21477115\n",
      " 5.97298346 5.47022218 5.27763496 4.91784028 6.02372613 6.5622585\n",
      " 5.87762565 5.36845703 5.66929628 5.9808473  4.97788383 5.29996243\n",
      " 5.43503453 5.11206934 5.45085361 7.11165503 6.12498732 6.34647209\n",
      " 5.61422021 4.84313249 6.02728054 6.05816997 6.25203301 5.0887382\n",
      " 6.01101874 5.50017707 4.92296747 5.05594721 5.15137807 5.45170014\n",
      " 5.03451173 6.09938056 5.4844732  6.17986513 5.27054798 4.69843758\n",
      " 6.00283857 5.85115028 6.62344208 5.16991532 5.56359519 4.98560296\n",
      " 4.83777521 6.50277062 6.20638654 5.82934485 5.2682587  5.84018593\n",
      " 5.22266544 5.4917566  5.85213534 4.90405393 6.72867827 5.14733999\n",
      " 5.63597195 4.90747392 5.5152146  5.43115527 6.14180561 5.09548882\n",
      " 5.91118157 5.43097722 6.82451252 5.35290159 6.01770446 5.28816648\n",
      " 5.26654846 5.63651131 6.16805996 5.21674876 4.76546887 5.20796963\n",
      " 5.44136903 5.64257527 5.99402884 5.73768937 5.12607112 5.66033035\n",
      " 6.82458073 5.4878798  5.00597392 5.72967787 5.88305378 6.32914303\n",
      " 6.19347976 4.97155369 6.57995235 6.30062521 5.21266724 6.21507951\n",
      " 5.89470294 5.96625089 5.42846932 5.0584427  5.42962726 5.31014357\n",
      " 4.99087717 6.04930057 5.70430105 5.41046757 5.08865735 6.54772334\n",
      " 5.28123273 5.13112625 5.13919402 5.32457817 5.54103898 4.94765661\n",
      " 5.0193679  6.12613671 5.28978393 5.65728438 5.35068718 6.12746847\n",
      " 5.3509703  5.38266142 5.16007516 4.72925704 5.8702862  4.62318953\n",
      " 4.63633856 6.67439508 5.34963558 5.58975231 5.68717939 5.90494766\n",
      " 5.00040252 5.84921799 5.08619357 5.35284866 6.00779532 5.47449202\n",
      " 5.7404741  5.34112405 6.04864158 5.93041614 5.62100068 4.97834599\n",
      " 5.37128842 5.08351135 6.00048906 5.0057478  5.8356247  5.32703144\n",
      " 5.23756654 5.40390738 5.45910018 6.18959758 5.39891022 5.19871786\n",
      " 6.12199117 4.82512779 5.02876284 5.36431428 5.10755503 5.04863279\n",
      " 5.25804826 5.38491028 5.23906354 5.23375092 5.52112672 6.20955053\n",
      " 6.33198709 5.90341992 6.54423187 6.03231588 5.57728754 5.64312306\n",
      " 6.66648651 5.5787623  6.14814796 5.16317879 5.7278488  6.09351171\n",
      " 6.16678574 5.40368845 5.68344277 6.46819907 4.96896305 6.17936079\n",
      " 6.48689779 6.63065473 5.15470175 5.94702972 6.318218   6.48614654\n",
      " 5.01225133 5.54772631 5.42563645 5.67670708 5.36865102 5.56546962\n",
      " 5.77560148 5.22973209 4.94486591 6.03865637 6.11335984 5.94118054\n",
      " 5.89670366 5.6019223  6.38607522 6.24228706 6.07721263 4.73226559\n",
      " 5.45808486 5.25056904 5.27478074 5.14258266 5.51272825 5.9609391\n",
      " 5.90331496 5.91087347 4.45482985 5.00067067 5.02623314 5.3533855\n",
      " 6.0055828  5.68295559 6.49665837 4.31453633 5.88185046 5.80590583\n",
      " 5.77235471 5.17644487 5.2528647  5.14025327 4.32728229 6.3894833\n",
      " 5.29196565 5.09303477 5.74499873 5.59500536 5.30260187 6.32943622\n",
      " 5.21101395 6.1849706  5.15569673 5.45066612 5.88527101 5.48199032\n",
      " 4.85731918 5.09714073 5.59443081 5.10254729 5.16072994 4.90787391\n",
      " 5.19781737 5.04309366 6.58489035 6.87621787 6.34090852 6.00670827\n",
      " 5.28837905 6.25384774 5.58005572 5.52242826 5.84471096 5.52793321\n",
      " 6.49550594 5.93690693 5.13267443 5.86882962 4.89031752 4.94170377\n",
      " 4.83318736 5.48378932 5.49919479 6.03357878 6.10769518 4.93930923\n",
      " 5.82471597 5.53577863 6.34929799 5.65802616 5.73290929 5.53039371\n",
      " 6.16988452 6.27491382 5.45365864 5.16131552 5.78005506 6.0281009\n",
      " 6.66405493 5.35010303 4.99544636 5.9256146  5.15344223 6.44445407\n",
      " 5.89465578 5.2183654  5.16444871 5.48705634 5.26942927 5.70409582\n",
      " 5.32137561 5.07955541 5.89621049 6.04598208 5.53729955 5.74492757\n",
      " 6.06129006 6.11918957 5.8135761  5.73058715 4.9814923  5.98358639\n",
      " 4.90136335 5.41793639 5.32542938 6.21640621 4.58801772 6.54937843\n",
      " 5.60270257 5.96488839 5.41977068 5.80928198 6.49956187 5.55012416\n",
      " 6.11885363 5.37040847 5.6918832  4.83402567 5.4980829  5.83706922\n",
      " 5.33677523 6.17485411 6.00232795 5.16356875 5.71454797 5.41112741\n",
      " 5.21405774 5.30833686 4.98529539 5.22485188 6.13118994 5.49932767\n",
      " 5.20063326 5.22334397 6.51640685 4.98935881 6.15829719 5.08645897\n",
      " 5.47165822 5.06242465 5.88415778 6.24307319 6.36628994 5.26418561\n",
      " 5.75847775 5.77697651 5.94356555 5.31505104 5.03935614 4.89435814\n",
      " 5.08428115 5.16758288 5.3224276  5.02196573 5.10993061 5.41656253\n",
      " 5.12794841 4.94099226 5.64589643 6.11226961 5.14796205 5.73561083\n",
      " 6.26811236 5.69963351 5.50201593 4.94751912 5.46468766 5.06670827\n",
      " 5.92229353 5.29845535 5.86223815 5.99266129 5.34915238 5.82777654\n",
      " 6.27692529 5.74453392 6.30642535 5.47563462 6.07181878 5.3535536\n",
      " 5.65313113 5.61844646 5.18483879 5.92864909 6.51359142 5.36885\n",
      " 5.01106421 5.32632443 6.1698757  5.86020778 6.70894546 6.30284051\n",
      " 5.47478425 5.29048468 5.19212337 6.25233856 5.06324568 5.10751499\n",
      " 5.31867176 5.84371306 6.08455288 5.23331001 5.338901   5.53181565\n",
      " 6.12861956 5.27892231 5.44884601 4.74402701 5.18434682 6.29507747\n",
      " 6.30563471 6.00206257 5.51441382 5.72710067 4.92904012 6.28007985\n",
      " 5.14855821 5.84022569 5.12171794 6.05704849 6.10943144 6.00941947\n",
      " 5.40247791 5.13843904 6.67559235 5.09832772 5.42967183 4.68363431\n",
      " 5.02628942 5.00420821 5.44600433 5.03589465 6.17884585 6.25175583\n",
      " 5.32384832 5.60390899 6.04613702 4.79989426 5.30307325 5.59248011\n",
      " 6.48172839 5.62592527 5.84135019 5.9687158  6.45867088 5.95498444\n",
      " 5.24873339 5.95198448 6.1301215  5.68577862 5.49458842 5.86014951\n",
      " 4.70388648 5.7295213  6.50968312 5.55888507 5.71754387 5.23063289\n",
      " 4.93995703 5.53422453 5.04686899 5.86830994 5.18045667 5.89557493\n",
      " 5.17000223 6.50478552 5.26355094 5.38346507 6.17158344 5.61481149\n",
      " 6.18026187 5.33740242 5.40557374 5.11868749 5.94465847 6.26369028\n",
      " 5.577339   5.65391027 5.9145917  5.8606719  6.33264872 5.54009602\n",
      " 6.49699652 6.08412925 6.15866958 5.57315062 5.09465079 6.52899376\n",
      " 4.99981978 5.71967177 5.45099961 5.7878808  5.1375328  5.16541333\n",
      " 5.4083601  5.12793879 5.13201781 6.03464035 6.00473852 6.60322285\n",
      " 5.29368927 5.65652869 5.26195813 6.48366743 5.1855078  6.26168029\n",
      " 5.87386026 5.66284148 5.727469   5.20931285 4.954835   5.55297816\n",
      " 6.45817949 6.57211827 4.57934683 5.49877977 4.90445985 5.12232831\n",
      " 5.16196782 5.12102185 5.0465386  5.66539333 6.22468092 5.72191858\n",
      " 6.10051696 5.36399844 5.56863061 6.48116434 6.13374756 5.41502433\n",
      " 5.79786431 5.13408401 6.31211454 6.99259014 5.10997148 5.4594262\n",
      " 5.61927429 6.10456482 5.27799281 5.00159673 5.64546307 5.07773579\n",
      " 4.82169865 5.7213264  5.81682129 4.98399754 5.38345215 6.5133573\n",
      " 6.31823604 5.70371855 5.17501192 5.60215072 5.14466408 5.83461097\n",
      " 4.84467542 4.80979012 5.26261705 5.29289686 6.08735452 5.94955301\n",
      " 5.1067869  6.08880045 5.77246491 5.48427532 6.13434375 5.27963396\n",
      " 5.67913717 5.12995844 5.78456932 5.70204286 6.63006445 6.18964289\n",
      " 4.98947886 5.35118136 5.46821212 5.84431359 5.88962784 5.2510858\n",
      " 6.32655737 6.34365973 5.45697097 6.17397191 5.58518056 5.71895492\n",
      " 5.02635599 5.31632742 5.04513994 5.46877538 5.100743   4.917984\n",
      " 6.09542735 5.23411505 6.08916998 5.92403628 5.85145519 6.00990821\n",
      " 5.33251033 6.09564014 5.1507825  6.14360178 6.13309139 4.89782802\n",
      " 5.42006078 5.04155718 6.53777602 6.03992885 5.68471685 5.10595662\n",
      " 5.0728115  5.6589324  5.57993769 5.9307309  6.29825568 5.62617022\n",
      " 5.01479732 5.1587987  6.41538419 5.33009773 4.87695328 5.40425452\n",
      " 6.06400755 5.72504679 5.85804207 5.15204398 5.92990353 5.04535773\n",
      " 5.00733786 5.4017116  6.27511295 5.37969423 6.77099495 5.97667353\n",
      " 6.25760307 4.85951207 5.28165982 5.02556209 5.58477694 5.3492369\n",
      " 6.89874506 5.15102428 4.75885476 5.25903639 5.22695395 6.10030532\n",
      " 5.02316057 5.98408069 4.72361118 5.51289443 5.10282991 6.31391904\n",
      " 6.51860198 5.71324337 5.91317482 6.36063237 5.68920246 5.76652543\n",
      " 5.23127458 6.18229137 5.27458615 6.6329752  5.91861893 5.33479799\n",
      " 5.21747526 4.86019834 5.69184636 5.48031362 6.29065491 7.02410896\n",
      " 5.29837179 6.35509819 5.75118638 5.01050743 5.14305523 5.99557271\n",
      " 5.24768506 5.25607482 5.76569527 5.35226985 5.54131025 6.64949059\n",
      " 5.08769445 5.29464662 5.87868621 6.53044051 5.12817723 5.90948903\n",
      " 5.65512875 5.84795033 6.1185423  6.12397562 6.45557044 5.90967225\n",
      " 5.42995598 6.14381351 5.50726251 5.47702362 5.55447692 5.41996053\n",
      " 6.32348494 5.72932414 6.32678423 6.20304182 6.84268374 4.95208551\n",
      " 5.33986836 6.19192916 6.11311353 4.88754399 5.46995754 5.69835884\n",
      " 7.03133304 5.69107907 5.33422108 5.18166314 5.07873388 5.5850796\n",
      " 6.41705744 5.06441967 5.44687999 5.11877026 4.43440502 6.86469122\n",
      " 6.09041866 5.61629725 6.26686248 4.88602209 5.03465538 6.11803816\n",
      " 5.71110649 5.17112939 5.34834822 5.27159101 5.12040792 5.11953444\n",
      " 6.32878355 5.33481869 5.39876598 6.61663265 5.44300637 5.69676932\n",
      " 6.45092248 6.88224362 5.08677376 4.64008533 5.85653038 6.11936752\n",
      " 5.3824316  4.99173266 5.161874   6.74227424 5.27217756 6.21844609\n",
      " 5.80621811 5.558651   4.86145899 5.35968174 5.33553817 5.34378704\n",
      " 6.46336264 4.7051229  6.24298377 5.30344382 5.25496564 6.0666032\n",
      " 4.87426586 5.88408199 5.07075781 5.24356729 5.72750191 4.78281032\n",
      " 6.16124054 6.11840086 5.11082485 5.72806615 5.6768559  5.21491771\n",
      " 5.80865273 5.15782391 5.41867755 5.75331666 5.7611258  5.86803036\n",
      " 5.06098093 5.37451786 5.21946103]\n",
      "[6.0077112  5.2201343  5.40085247 5.91035882 6.37506785 5.74117147\n",
      " 5.81634381 5.69766372 5.0510908  5.99436433 5.44432598 6.27705279\n",
      " 5.67374931 4.83762649 6.58977885 5.61541606 6.06615277 5.7486477\n",
      " 4.9897921  5.71060356 5.79154568 4.8627427  6.00304651 6.41567047\n",
      " 5.63432152 7.66117606 6.50194528 5.87161317 5.0542708  4.69711688\n",
      " 5.170847   4.87389326 5.24638544 5.57298587 6.80208674 6.14831424\n",
      " 5.25818745 5.91666265 5.65405735 6.5844106  5.46141544 5.72154145\n",
      " 6.27748066 6.08790857 5.8845477  5.85781688 5.3376965  5.32426139\n",
      " 5.5776624  5.54388132 6.36791807 5.15917162 5.61183692 5.62868151\n",
      " 6.20071943 6.60820049 5.36060611 4.96638873 5.63063906 6.52901071\n",
      " 5.25258118 5.63465047 6.25424533 4.97319579 5.45053734 5.08167324\n",
      " 5.20710276 5.58942934 5.16069118 5.32674969 5.27843184 6.36178775\n",
      " 5.21697143 5.27582348 6.2063654  5.50524533 5.6525692  5.27574032\n",
      " 5.919815   5.69943873 5.21494678 5.22296028 6.42920004 6.28366618\n",
      " 5.9238236  6.61447618 5.30371248 5.93397309 5.62714936 6.16997616\n",
      " 6.37125769 6.47295389 4.80617538 5.48317391 5.12325569 5.79593113\n",
      " 6.48552048 5.47115007 5.37257105 5.8984417  6.19957878 5.90440666\n",
      " 6.39893051 5.99771102 6.0942136  4.88344481 5.49446769 5.2089366\n",
      " 6.06669233 5.38989609 5.52403549 5.44747444 5.28148933 5.94722849\n",
      " 4.89916104 5.57257799 5.85047445 6.13022969 4.69092687 5.74652921\n",
      " 5.24008561 5.45057535 4.8280813  5.61136393 6.46704859 5.17232963\n",
      " 6.07995986 6.00780815 5.02391433 5.33676651 6.31196722 6.56568309\n",
      " 6.17876415 5.74081281 5.4593988  6.38084388 6.3873112  5.91068673\n",
      " 6.07272094 6.05488371 6.02276922 5.10816608 5.51081549 5.08385182\n",
      " 4.93171436 5.42704329 5.79150004 5.35404155 5.33758544 6.41480565\n",
      " 5.31049017 5.13458081 5.0828751  6.55608622 5.17344527 5.72431582\n",
      " 6.95618168 5.17831934 6.44568007 6.00188098 5.20045829 6.05344332\n",
      " 5.42158604 5.38400255 5.82743834 5.31384677 5.33901731 6.06370976\n",
      " 5.53141747 6.02909734 5.29524614 5.49633691 5.42747822 5.81911488\n",
      " 5.24725471 5.34699516 6.08729823 5.46005524 5.00184077 5.59582284\n",
      " 5.89488706 5.35075198 5.48031315 5.15397101 4.89101293 6.58800695\n",
      " 5.20567128 5.5236965  6.06535861 6.32693586 5.87273145 5.71220293\n",
      " 6.21511992 4.78085389 5.32556892 6.48021815 6.37221925 5.40136754\n",
      " 5.56401277 5.64360699 5.1457199  5.28957367 5.91000217 5.00132384\n",
      " 4.78154912 5.43568974 5.06935535 5.65206459 6.01119134 5.94734261\n",
      " 5.38507303 6.52028814 4.83905135 5.52646801 5.62765891 5.32234915\n",
      " 5.68187759 6.50594214 6.64924067 5.79978073 5.42031971 5.99369589\n",
      " 5.1840425  5.04373601 6.25276911 5.78164078 5.12222658 5.30361071\n",
      " 4.88552791 5.27890693 5.81614298 6.66761818 5.1472966  6.75414472\n",
      " 6.26543954 5.19072766 5.70512658 5.40268103 5.13500925 5.3346495\n",
      " 5.44426884 6.00582937 5.66341858 5.34695104 6.53615531 5.65128999\n",
      " 6.36728154 5.20038157 5.87619202 5.54475169 5.4524887  5.14745499\n",
      " 6.09392787 5.02948626 5.66401268 5.67727594 5.27072154 5.86193259\n",
      " 6.00021698 5.59505809 5.77008627 5.49560231 5.31916351 5.99964676\n",
      " 5.54698025 4.79212534 7.03607838 5.04703476 5.58844228 4.5392893\n",
      " 5.06628957 5.83110461 5.19798946 6.56851195 6.119663   6.13663565\n",
      " 5.44374599 5.46608209 4.88073861 6.02739191 5.88705653 5.91628495\n",
      " 6.34466456 5.99111351 5.32332701 5.12031642 5.45481315 5.23327913\n",
      " 5.3420262  5.24356605 5.50463375 6.20788369 5.89287551 5.9804909\n",
      " 5.10366828 5.339389   5.54415772 6.30043692 6.43742028 5.26295363\n",
      " 6.28916565 6.14061663 5.08583667 5.45719854 5.26163426 5.44660817\n",
      " 5.46610911 6.59385442 5.31936481 6.16477602 6.34832447 6.08102324\n",
      " 5.69180996 5.54371596 5.16523785 5.13899709 5.01549125 5.0870597\n",
      " 5.37653274 6.52307123 5.66445497 5.19274192 5.17011924 4.9713144\n",
      " 5.04853974 5.16625528 6.33008864 5.996673   6.13014974 5.70386928\n",
      " 5.85748103 5.00425521 5.4012169  5.27406058 5.49891364 6.00305185\n",
      " 5.21577262 6.17029896 6.4999764  5.0070528  5.17323821 5.58918217\n",
      " 5.12961362 5.54021009 5.77216801 5.98130234 5.52541779 5.75436023\n",
      " 5.12026433 5.16778691 5.39791056 5.64996777 6.2364061  5.68081596\n",
      " 5.28591835 5.40172211 5.6603458  5.14882176 5.42509817 5.41009965\n",
      " 5.07917761 6.24026352 5.43624911 5.18716328 4.6356802  5.13015683\n",
      " 5.15315817 5.56935637 5.67206583 5.66724497 5.38442337 5.72066759\n",
      " 5.46992066 5.27907867 6.41128999 6.181456   5.09267885 5.01773638\n",
      " 4.78495051 5.86112041 5.38026254 5.74644959 5.87321663 5.56078306\n",
      " 5.16483527 5.53510217 5.38210657 5.82794704 5.41969803 6.21832759\n",
      " 5.15389539 5.60460361 5.20573158 6.99649776 5.76294262 5.35042508\n",
      " 5.42244248 5.41782868 6.24322521 5.34119255 5.56430561 6.39707613\n",
      " 5.10151673 5.1048675  6.39150225 6.48496704 5.307887   5.49150016]\n"
     ]
    }
   ],
   "source": [
    "train_pred = lr.predict(X_train)\n",
    "print(train_pred)\n",
    "test_pred = lr.predict(X_test)\n",
    "print(test_pred)"
   ]
  },
  {
   "cell_type": "code",
   "execution_count": 38,
   "metadata": {},
   "outputs": [
    {
     "name": "stdout",
     "output_type": "stream",
     "text": [
      "0.639106455563519\n",
      "0.7086926503420403\n"
     ]
    }
   ],
   "source": [
    "rmse_train = metrics.mean_squared_error(train_pred, y_train) ** 0.5\n",
    "print(rmse_train)\n",
    "\n",
    "rmse_test = metrics.mean_squared_error(test_pred, y_test) ** 0.5\n",
    "print(rmse_test)"
   ]
  },
  {
   "cell_type": "code",
   "execution_count": 39,
   "metadata": {},
   "outputs": [
    {
     "name": "stdout",
     "output_type": "stream",
     "text": [
      "[6. 5. 5. 6. 6. 6. 6. 6. 5. 6. 5. 6. 6. 5. 7. 6. 6. 6. 5. 6. 6. 5. 6. 6.\n",
      " 6. 8. 7. 6. 5. 5. 5. 5. 5. 6. 7. 6. 5. 6. 6. 7. 5. 6. 6. 6. 6. 6. 5. 5.\n",
      " 6. 6. 6. 5. 6. 6. 6. 7. 5. 5. 6. 7. 5. 6. 6. 5. 5. 5. 5. 6. 5. 5. 5. 6.\n",
      " 5. 5. 6. 6. 6. 5. 6. 6. 5. 5. 6. 6. 6. 7. 5. 6. 6. 6. 6. 6. 5. 5. 5. 6.\n",
      " 6. 5. 5. 6. 6. 6. 6. 6. 6. 5. 5. 5. 6. 5. 6. 5. 5. 6. 5. 6. 6. 6. 5. 6.\n",
      " 5. 5. 5. 6. 6. 5. 6. 6. 5. 5. 6. 7. 6. 6. 5. 6. 6. 6. 6. 6. 6. 5. 6. 5.\n",
      " 5. 5. 6. 5. 5. 6. 5. 5. 5. 7. 5. 6. 7. 5. 6. 6. 5. 6. 5. 5. 6. 5. 5. 6.\n",
      " 6. 6. 5. 5. 5. 6. 5. 5. 6. 5. 5. 6. 6. 5. 5. 5. 5. 7. 5. 6. 6. 6. 6. 6.\n",
      " 6. 5. 5. 6. 6. 5. 6. 6. 5. 5. 6. 5. 5. 5. 5. 6. 6. 6. 5. 7. 5. 6. 6. 5.\n",
      " 6. 7. 7. 6. 5. 6. 5. 5. 6. 6. 5. 5. 5. 5. 6. 7. 5. 7. 6. 5. 6. 5. 5. 5.\n",
      " 5. 6. 6. 5. 7. 6. 6. 5. 6. 6. 5. 5. 6. 5. 6. 6. 5. 6. 6. 6. 6. 5. 5. 6.\n",
      " 6. 5. 7. 5. 6. 5. 5. 6. 5. 7. 6. 6. 5. 5. 5. 6. 6. 6. 6. 6. 5. 5. 5. 5.\n",
      " 5. 5. 6. 6. 6. 6. 5. 5. 6. 6. 6. 5. 6. 6. 5. 5. 5. 5. 5. 7. 5. 6. 6. 6.\n",
      " 6. 6. 5. 5. 5. 5. 5. 7. 6. 5. 5. 5. 5. 5. 6. 6. 6. 6. 6. 5. 5. 5. 5. 6.\n",
      " 5. 6. 6. 5. 5. 6. 5. 6. 6. 6. 6. 6. 5. 5. 5. 6. 6. 6. 5. 5. 6. 5. 5. 5.\n",
      " 5. 6. 5. 5. 5. 5. 5. 6. 6. 6. 5. 6. 5. 5. 6. 6. 5. 5. 5. 6. 5. 6. 6. 6.\n",
      " 5. 6. 5. 6. 5. 6. 5. 6. 5. 7. 6. 5. 5. 5. 6. 5. 6. 6. 5. 5. 6. 6. 5. 5.]\n"
     ]
    }
   ],
   "source": [
    "predicted_data = np.round_(test_pred)\n",
    "print(predicted_data)"
   ]
  },
  {
   "cell_type": "code",
   "execution_count": 40,
   "metadata": {},
   "outputs": [
    {
     "name": "stdout",
     "output_type": "stream",
     "text": [
      "Mean Absolute Error: 0.5471730954119725\n",
      "Mean Squared Error: 0.5022452726488253\n",
      "Root Mean Squared Error: 0.7086926503420403\n"
     ]
    }
   ],
   "source": [
    "print('Mean Absolute Error:', metrics.mean_absolute_error(test_pred, y_test))\n",
    "print('Mean Squared Error:', metrics.mean_squared_error(test_pred, y_test))\n",
    "print('Root Mean Squared Error:', np.sqrt(metrics.mean_squared_error(test_pred, y_test)))"
   ]
  },
  {
   "cell_type": "code",
   "execution_count": 41,
   "metadata": {},
   "outputs": [
    {
     "name": "stdout",
     "output_type": "stream",
     "text": [
      "                      Coefficient\n",
      "fixed_acidity            0.051670\n",
      "volatile_acidity        -1.098567\n",
      "citric_acid             -0.368034\n",
      "chlorides               -1.293181\n",
      "total_sulfur_dioxide    -0.001407\n",
      "density                 -2.593470\n",
      "sulphates                0.959152\n",
      "alcohol                  0.329102\n"
     ]
    }
   ],
   "source": [
    "coefficients = pd.DataFrame(lr.coef_, features) \n",
    "coefficients.columns = ['Coefficient']\n",
    "print(coefficients)"
   ]
  },
  {
   "cell_type": "markdown",
   "metadata": {},
   "source": [
    "**CONCLUSION:** The above coefficients denote the impact of each on the Quality of Wine.\n",
    "\n",
    "Such as,\n",
    "\n",
    "1. Every Alcohol measure increase will lead to increase of 0.33 in Quality.\n",
    "2. Increase in Chlorides will decrease the quality of Wine."
   ]
  },
  {
   "cell_type": "code",
   "execution_count": null,
   "metadata": {},
   "outputs": [],
   "source": []
  }
 ],
 "metadata": {
  "kernelspec": {
   "display_name": "Python 3",
   "language": "python",
   "name": "python3"
  },
  "language_info": {
   "codemirror_mode": {
    "name": "ipython",
    "version": 3
   },
   "file_extension": ".py",
   "mimetype": "text/x-python",
   "name": "python",
   "nbconvert_exporter": "python",
   "pygments_lexer": "ipython3",
   "version": "3.7.7"
  }
 },
 "nbformat": 4,
 "nbformat_minor": 4
}
